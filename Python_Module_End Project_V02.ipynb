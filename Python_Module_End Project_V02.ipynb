{
 "cells": [
  {
   "cell_type": "markdown",
   "id": "f7fe63fd-17d5-41a3-9696-ca128d4654f2",
   "metadata": {},
   "source": [
    "# Python_Module_End Project\n"
   ]
  },
  {
   "cell_type": "markdown",
   "id": "7573f6dc-e774-427b-82ae-98019dc3d5c5",
   "metadata": {},
   "source": [
    "##  Dataset of employees working in ABC company"
   ]
  },
  {
   "cell_type": "markdown",
   "id": "e4f49a4d-61d1-4000-a806-1036d9138a96",
   "metadata": {},
   "source": [
    "### Importing Libraries\n"
   ]
  },
  {
   "cell_type": "code",
   "execution_count": 2,
   "id": "fe760153-30cd-4cd5-b428-de3b4c81dcf3",
   "metadata": {},
   "outputs": [],
   "source": [
    "import numpy as np\n",
    "import pandas as pd\n",
    "import matplotlib.pyplot as plt\n",
    "import seaborn as sns"
   ]
  },
  {
   "cell_type": "markdown",
   "id": "79890da6-0601-41bf-ab27-bb7b7d10dae7",
   "metadata": {},
   "source": [
    "### Reading_CSV File"
   ]
  },
  {
   "cell_type": "markdown",
   "id": "84184624-22b9-46ee-9c04-7fa680319de1",
   "metadata": {},
   "source": [
    "df=pd.read_csv('Employee_data.csv.csv')\n",
    "df.head"
   ]
  },
  {
   "cell_type": "markdown",
   "id": "a09cb7a5-63c6-4c9b-aaf6-62a388e063c4",
   "metadata": {},
   "source": [
    "### Data Information"
   ]
  },
  {
   "cell_type": "code",
   "execution_count": 7,
   "id": "25ccdf91-5103-4d46-9479-cc03189a9b37",
   "metadata": {},
   "outputs": [
    {
     "name": "stdout",
     "output_type": "stream",
     "text": [
      "<class 'pandas.core.frame.DataFrame'>\n",
      "RangeIndex: 458 entries, 0 to 457\n",
      "Data columns (total 9 columns):\n",
      " #   Column    Non-Null Count  Dtype  \n",
      "---  ------    --------------  -----  \n",
      " 0   Name      458 non-null    object \n",
      " 1   Team      458 non-null    object \n",
      " 2   Number    458 non-null    int64  \n",
      " 3   Position  458 non-null    object \n",
      " 4   Age       458 non-null    int64  \n",
      " 5   Height    458 non-null    object \n",
      " 6   Weight    458 non-null    int64  \n",
      " 7   College   374 non-null    object \n",
      " 8   Salary    447 non-null    float64\n",
      "dtypes: float64(1), int64(3), object(5)\n",
      "memory usage: 32.3+ KB\n"
     ]
    }
   ],
   "source": [
    "df.info()"
   ]
  },
  {
   "cell_type": "markdown",
   "id": "a369a7c9-a641-4237-8d4b-418bcd4f18a8",
   "metadata": {},
   "source": [
    "### To check the missing values"
   ]
  },
  {
   "cell_type": "code",
   "execution_count": 18,
   "id": "0e9b05ed-916d-4933-876d-918eb98e79fe",
   "metadata": {},
   "outputs": [
    {
     "data": {
      "text/plain": [
       "Name         0\n",
       "Team         0\n",
       "Number       0\n",
       "Position     0\n",
       "Age          0\n",
       "Height       0\n",
       "Weight       0\n",
       "College     84\n",
       "Salary      11\n",
       "dtype: int64"
      ]
     },
     "execution_count": 18,
     "metadata": {},
     "output_type": "execute_result"
    }
   ],
   "source": [
    "df.isnull().sum()"
   ]
  },
  {
   "cell_type": "markdown",
   "id": "c8375afd-c099-4f74-a807-f80e67ac00de",
   "metadata": {},
   "source": [
    "### In this dataframe we found few null values in the column named 'College' and 'Salary'"
   ]
  },
  {
   "cell_type": "markdown",
   "id": "bf41fd4e-ddca-4652-bacc-abddb082fdd2",
   "metadata": {},
   "source": [
    "### Describe"
   ]
  },
  {
   "cell_type": "code",
   "execution_count": 11,
   "id": "a5851b65-086c-4c59-806b-0a283160ead2",
   "metadata": {},
   "outputs": [
    {
     "data": {
      "text/html": [
       "<div>\n",
       "<style scoped>\n",
       "    .dataframe tbody tr th:only-of-type {\n",
       "        vertical-align: middle;\n",
       "    }\n",
       "\n",
       "    .dataframe tbody tr th {\n",
       "        vertical-align: top;\n",
       "    }\n",
       "\n",
       "    .dataframe thead th {\n",
       "        text-align: right;\n",
       "    }\n",
       "</style>\n",
       "<table border=\"1\" class=\"dataframe\">\n",
       "  <thead>\n",
       "    <tr style=\"text-align: right;\">\n",
       "      <th></th>\n",
       "      <th>Number</th>\n",
       "      <th>Age</th>\n",
       "      <th>Weight</th>\n",
       "      <th>Salary</th>\n",
       "    </tr>\n",
       "  </thead>\n",
       "  <tbody>\n",
       "    <tr>\n",
       "      <th>count</th>\n",
       "      <td>458.000000</td>\n",
       "      <td>458.000000</td>\n",
       "      <td>458.000000</td>\n",
       "      <td>4.470000e+02</td>\n",
       "    </tr>\n",
       "    <tr>\n",
       "      <th>mean</th>\n",
       "      <td>17.713974</td>\n",
       "      <td>26.934498</td>\n",
       "      <td>221.543668</td>\n",
       "      <td>4.833970e+06</td>\n",
       "    </tr>\n",
       "    <tr>\n",
       "      <th>std</th>\n",
       "      <td>15.966837</td>\n",
       "      <td>4.400128</td>\n",
       "      <td>26.343200</td>\n",
       "      <td>5.226620e+06</td>\n",
       "    </tr>\n",
       "    <tr>\n",
       "      <th>min</th>\n",
       "      <td>0.000000</td>\n",
       "      <td>19.000000</td>\n",
       "      <td>161.000000</td>\n",
       "      <td>3.088800e+04</td>\n",
       "    </tr>\n",
       "    <tr>\n",
       "      <th>25%</th>\n",
       "      <td>5.000000</td>\n",
       "      <td>24.000000</td>\n",
       "      <td>200.000000</td>\n",
       "      <td>1.025210e+06</td>\n",
       "    </tr>\n",
       "    <tr>\n",
       "      <th>50%</th>\n",
       "      <td>13.000000</td>\n",
       "      <td>26.000000</td>\n",
       "      <td>220.000000</td>\n",
       "      <td>2.836186e+06</td>\n",
       "    </tr>\n",
       "    <tr>\n",
       "      <th>75%</th>\n",
       "      <td>25.000000</td>\n",
       "      <td>30.000000</td>\n",
       "      <td>240.000000</td>\n",
       "      <td>6.500000e+06</td>\n",
       "    </tr>\n",
       "    <tr>\n",
       "      <th>max</th>\n",
       "      <td>99.000000</td>\n",
       "      <td>40.000000</td>\n",
       "      <td>307.000000</td>\n",
       "      <td>2.500000e+07</td>\n",
       "    </tr>\n",
       "  </tbody>\n",
       "</table>\n",
       "</div>"
      ],
      "text/plain": [
       "           Number         Age      Weight        Salary\n",
       "count  458.000000  458.000000  458.000000  4.470000e+02\n",
       "mean    17.713974   26.934498  221.543668  4.833970e+06\n",
       "std     15.966837    4.400128   26.343200  5.226620e+06\n",
       "min      0.000000   19.000000  161.000000  3.088800e+04\n",
       "25%      5.000000   24.000000  200.000000  1.025210e+06\n",
       "50%     13.000000   26.000000  220.000000  2.836186e+06\n",
       "75%     25.000000   30.000000  240.000000  6.500000e+06\n",
       "max     99.000000   40.000000  307.000000  2.500000e+07"
      ]
     },
     "execution_count": 11,
     "metadata": {},
     "output_type": "execute_result"
    }
   ],
   "source": [
    "df.describe()"
   ]
  },
  {
   "cell_type": "markdown",
   "id": "3d03af9a-1217-4ae9-bd81-63583597f1b6",
   "metadata": {},
   "source": [
    "### To Fill the missing values\n"
   ]
  },
  {
   "cell_type": "code",
   "execution_count": 46,
   "id": "7c9eb60d-55c2-4a74-9bf1-e2fce2f288d1",
   "metadata": {},
   "outputs": [
    {
     "data": {
      "text/html": [
       "<div>\n",
       "<style scoped>\n",
       "    .dataframe tbody tr th:only-of-type {\n",
       "        vertical-align: middle;\n",
       "    }\n",
       "\n",
       "    .dataframe tbody tr th {\n",
       "        vertical-align: top;\n",
       "    }\n",
       "\n",
       "    .dataframe thead th {\n",
       "        text-align: right;\n",
       "    }\n",
       "</style>\n",
       "<table border=\"1\" class=\"dataframe\">\n",
       "  <thead>\n",
       "    <tr style=\"text-align: right;\">\n",
       "      <th></th>\n",
       "      <th>Name</th>\n",
       "      <th>Team</th>\n",
       "      <th>Number</th>\n",
       "      <th>Position</th>\n",
       "      <th>Age</th>\n",
       "      <th>Height</th>\n",
       "      <th>Weight</th>\n",
       "      <th>College</th>\n",
       "      <th>Salary</th>\n",
       "    </tr>\n",
       "  </thead>\n",
       "  <tbody>\n",
       "    <tr>\n",
       "      <th>0</th>\n",
       "      <td>Avery Bradley</td>\n",
       "      <td>Boston Celtics</td>\n",
       "      <td>0</td>\n",
       "      <td>PG</td>\n",
       "      <td>25</td>\n",
       "      <td>06-Feb</td>\n",
       "      <td>180</td>\n",
       "      <td>Texas</td>\n",
       "      <td>7730337.0</td>\n",
       "    </tr>\n",
       "    <tr>\n",
       "      <th>1</th>\n",
       "      <td>Jae Crowder</td>\n",
       "      <td>Boston Celtics</td>\n",
       "      <td>99</td>\n",
       "      <td>SF</td>\n",
       "      <td>25</td>\n",
       "      <td>06-Jun</td>\n",
       "      <td>235</td>\n",
       "      <td>Marquette</td>\n",
       "      <td>6796117.0</td>\n",
       "    </tr>\n",
       "    <tr>\n",
       "      <th>2</th>\n",
       "      <td>John Holland</td>\n",
       "      <td>Boston Celtics</td>\n",
       "      <td>30</td>\n",
       "      <td>SG</td>\n",
       "      <td>27</td>\n",
       "      <td>06-May</td>\n",
       "      <td>205</td>\n",
       "      <td>Boston University</td>\n",
       "      <td>0.0</td>\n",
       "    </tr>\n",
       "    <tr>\n",
       "      <th>3</th>\n",
       "      <td>R.J. Hunter</td>\n",
       "      <td>Boston Celtics</td>\n",
       "      <td>28</td>\n",
       "      <td>SG</td>\n",
       "      <td>22</td>\n",
       "      <td>06-May</td>\n",
       "      <td>185</td>\n",
       "      <td>Georgia State</td>\n",
       "      <td>1148640.0</td>\n",
       "    </tr>\n",
       "    <tr>\n",
       "      <th>4</th>\n",
       "      <td>Jonas Jerebko</td>\n",
       "      <td>Boston Celtics</td>\n",
       "      <td>8</td>\n",
       "      <td>PF</td>\n",
       "      <td>29</td>\n",
       "      <td>06-Oct</td>\n",
       "      <td>231</td>\n",
       "      <td>0</td>\n",
       "      <td>5000000.0</td>\n",
       "    </tr>\n",
       "    <tr>\n",
       "      <th>...</th>\n",
       "      <td>...</td>\n",
       "      <td>...</td>\n",
       "      <td>...</td>\n",
       "      <td>...</td>\n",
       "      <td>...</td>\n",
       "      <td>...</td>\n",
       "      <td>...</td>\n",
       "      <td>...</td>\n",
       "      <td>...</td>\n",
       "    </tr>\n",
       "    <tr>\n",
       "      <th>453</th>\n",
       "      <td>Shelvin Mack</td>\n",
       "      <td>Utah Jazz</td>\n",
       "      <td>8</td>\n",
       "      <td>PG</td>\n",
       "      <td>26</td>\n",
       "      <td>06-Mar</td>\n",
       "      <td>203</td>\n",
       "      <td>Butler</td>\n",
       "      <td>2433333.0</td>\n",
       "    </tr>\n",
       "    <tr>\n",
       "      <th>454</th>\n",
       "      <td>Raul Neto</td>\n",
       "      <td>Utah Jazz</td>\n",
       "      <td>25</td>\n",
       "      <td>PG</td>\n",
       "      <td>24</td>\n",
       "      <td>06-Jan</td>\n",
       "      <td>179</td>\n",
       "      <td>0</td>\n",
       "      <td>900000.0</td>\n",
       "    </tr>\n",
       "    <tr>\n",
       "      <th>455</th>\n",
       "      <td>Tibor Pleiss</td>\n",
       "      <td>Utah Jazz</td>\n",
       "      <td>21</td>\n",
       "      <td>C</td>\n",
       "      <td>26</td>\n",
       "      <td>07-Mar</td>\n",
       "      <td>256</td>\n",
       "      <td>0</td>\n",
       "      <td>2900000.0</td>\n",
       "    </tr>\n",
       "    <tr>\n",
       "      <th>456</th>\n",
       "      <td>Jeff Withey</td>\n",
       "      <td>Utah Jazz</td>\n",
       "      <td>24</td>\n",
       "      <td>C</td>\n",
       "      <td>26</td>\n",
       "      <td>7-0</td>\n",
       "      <td>231</td>\n",
       "      <td>Kansas</td>\n",
       "      <td>947276.0</td>\n",
       "    </tr>\n",
       "    <tr>\n",
       "      <th>457</th>\n",
       "      <td>Priyanka</td>\n",
       "      <td>Utah Jazz</td>\n",
       "      <td>34</td>\n",
       "      <td>C</td>\n",
       "      <td>25</td>\n",
       "      <td>07-Mar</td>\n",
       "      <td>231</td>\n",
       "      <td>Kansas</td>\n",
       "      <td>947276.0</td>\n",
       "    </tr>\n",
       "  </tbody>\n",
       "</table>\n",
       "<p>458 rows × 9 columns</p>\n",
       "</div>"
      ],
      "text/plain": [
       "              Name            Team  Number Position  Age  Height  Weight  \\\n",
       "0    Avery Bradley  Boston Celtics       0       PG   25  06-Feb     180   \n",
       "1      Jae Crowder  Boston Celtics      99       SF   25  06-Jun     235   \n",
       "2     John Holland  Boston Celtics      30       SG   27  06-May     205   \n",
       "3      R.J. Hunter  Boston Celtics      28       SG   22  06-May     185   \n",
       "4    Jonas Jerebko  Boston Celtics       8       PF   29  06-Oct     231   \n",
       "..             ...             ...     ...      ...  ...     ...     ...   \n",
       "453   Shelvin Mack       Utah Jazz       8       PG   26  06-Mar     203   \n",
       "454      Raul Neto       Utah Jazz      25       PG   24  06-Jan     179   \n",
       "455   Tibor Pleiss       Utah Jazz      21        C   26  07-Mar     256   \n",
       "456    Jeff Withey       Utah Jazz      24        C   26     7-0     231   \n",
       "457       Priyanka       Utah Jazz      34        C   25  07-Mar     231   \n",
       "\n",
       "               College     Salary  \n",
       "0                Texas  7730337.0  \n",
       "1            Marquette  6796117.0  \n",
       "2    Boston University        0.0  \n",
       "3        Georgia State  1148640.0  \n",
       "4                    0  5000000.0  \n",
       "..                 ...        ...  \n",
       "453             Butler  2433333.0  \n",
       "454                  0   900000.0  \n",
       "455                  0  2900000.0  \n",
       "456             Kansas   947276.0  \n",
       "457             Kansas   947276.0  \n",
       "\n",
       "[458 rows x 9 columns]"
      ]
     },
     "execution_count": 46,
     "metadata": {},
     "output_type": "execute_result"
    }
   ],
   "source": [
    "df2=df.fillna(value=0)\n",
    "df2"
   ]
  },
  {
   "cell_type": "markdown",
   "id": "19576ad1-ec1f-4439-8fb6-0ecc86702a01",
   "metadata": {},
   "source": [
    "### After filling the null we have to check the null values"
   ]
  },
  {
   "cell_type": "code",
   "execution_count": 47,
   "id": "81b58c88-cc6b-4c1c-9f26-758ba83014df",
   "metadata": {},
   "outputs": [
    {
     "data": {
      "text/plain": [
       "Name        0\n",
       "Team        0\n",
       "Number      0\n",
       "Position    0\n",
       "Age         0\n",
       "Height      0\n",
       "Weight      0\n",
       "College     0\n",
       "Salary      0\n",
       "dtype: int64"
      ]
     },
     "execution_count": 47,
     "metadata": {},
     "output_type": "execute_result"
    }
   ],
   "source": [
    "df2.isnull().sum()"
   ]
  },
  {
   "cell_type": "markdown",
   "id": "e8a98333-a49e-4562-a848-fade76beda8f",
   "metadata": {},
   "source": [
    "### To Check the column index"
   ]
  },
  {
   "cell_type": "code",
   "execution_count": 21,
   "id": "204cdbc9-26ed-4e08-8b69-3bf30f38fb6c",
   "metadata": {},
   "outputs": [
    {
     "data": {
      "text/plain": [
       "Index(['Name', 'Team', 'Number', 'Position', 'Age', 'Height', 'Weight',\n",
       "       'College', 'Salary'],\n",
       "      dtype='object')"
      ]
     },
     "execution_count": 21,
     "metadata": {},
     "output_type": "execute_result"
    }
   ],
   "source": [
    "df.columns"
   ]
  },
  {
   "cell_type": "markdown",
   "id": "f73f3c47-7c06-484c-879e-c2325d0380f6",
   "metadata": {},
   "source": [
    "### To check the shape"
   ]
  },
  {
   "cell_type": "code",
   "execution_count": 20,
   "id": "f10604e7-6e76-4386-af38-bc4e319805eb",
   "metadata": {},
   "outputs": [
    {
     "data": {
      "text/plain": [
       "(458, 9)"
      ]
     },
     "execution_count": 20,
     "metadata": {},
     "output_type": "execute_result"
    }
   ],
   "source": [
    "df.shape"
   ]
  },
  {
   "cell_type": "markdown",
   "id": "f130142e-1bbd-4e86-a951-e2c337ea270c",
   "metadata": {},
   "source": [
    "### Check the Duplicates"
   ]
  },
  {
   "cell_type": "code",
   "execution_count": 16,
   "id": "2cee07db-e4af-4079-9fc3-45484f1b376b",
   "metadata": {},
   "outputs": [
    {
     "data": {
      "text/plain": [
       "0"
      ]
     },
     "execution_count": 16,
     "metadata": {},
     "output_type": "execute_result"
    }
   ],
   "source": [
    "df=pd.read_csv('Employee_data.csv.csv')\n",
    "d3=df.duplicated().sum()\n",
    "d3"
   ]
  },
  {
   "cell_type": "markdown",
   "id": "6b1b009d-eb42-4fc9-a414-a5fd8cdbac46",
   "metadata": {},
   "source": [
    "## The column named Height is having a incorrect data changing the data of that column with some random numbers\n",
    "## between 150 and 180"
   ]
  },
  {
   "cell_type": "code",
   "execution_count": 20,
   "id": "d9d5b15f-b6d5-4d1b-a8b0-0180a9801beb",
   "metadata": {},
   "outputs": [],
   "source": [
    "df['Height']=np.random.randint(150,181,size=len(df))"
   ]
  },
  {
   "cell_type": "code",
   "execution_count": 21,
   "id": "24dade0c-9eff-4510-b691-af55a334c053",
   "metadata": {},
   "outputs": [
    {
     "data": {
      "text/html": [
       "<div>\n",
       "<style scoped>\n",
       "    .dataframe tbody tr th:only-of-type {\n",
       "        vertical-align: middle;\n",
       "    }\n",
       "\n",
       "    .dataframe tbody tr th {\n",
       "        vertical-align: top;\n",
       "    }\n",
       "\n",
       "    .dataframe thead th {\n",
       "        text-align: right;\n",
       "    }\n",
       "</style>\n",
       "<table border=\"1\" class=\"dataframe\">\n",
       "  <thead>\n",
       "    <tr style=\"text-align: right;\">\n",
       "      <th></th>\n",
       "      <th>Name</th>\n",
       "      <th>Team</th>\n",
       "      <th>Number</th>\n",
       "      <th>Position</th>\n",
       "      <th>Age</th>\n",
       "      <th>Height</th>\n",
       "      <th>Weight</th>\n",
       "      <th>College</th>\n",
       "      <th>Salary</th>\n",
       "    </tr>\n",
       "  </thead>\n",
       "  <tbody>\n",
       "    <tr>\n",
       "      <th>0</th>\n",
       "      <td>Avery Bradley</td>\n",
       "      <td>Boston Celtics</td>\n",
       "      <td>0</td>\n",
       "      <td>PG</td>\n",
       "      <td>25</td>\n",
       "      <td>153</td>\n",
       "      <td>180</td>\n",
       "      <td>Texas</td>\n",
       "      <td>7730337.0</td>\n",
       "    </tr>\n",
       "    <tr>\n",
       "      <th>1</th>\n",
       "      <td>Jae Crowder</td>\n",
       "      <td>Boston Celtics</td>\n",
       "      <td>99</td>\n",
       "      <td>SF</td>\n",
       "      <td>25</td>\n",
       "      <td>164</td>\n",
       "      <td>235</td>\n",
       "      <td>Marquette</td>\n",
       "      <td>6796117.0</td>\n",
       "    </tr>\n",
       "    <tr>\n",
       "      <th>2</th>\n",
       "      <td>John Holland</td>\n",
       "      <td>Boston Celtics</td>\n",
       "      <td>30</td>\n",
       "      <td>SG</td>\n",
       "      <td>27</td>\n",
       "      <td>171</td>\n",
       "      <td>205</td>\n",
       "      <td>Boston University</td>\n",
       "      <td>NaN</td>\n",
       "    </tr>\n",
       "    <tr>\n",
       "      <th>3</th>\n",
       "      <td>R.J. Hunter</td>\n",
       "      <td>Boston Celtics</td>\n",
       "      <td>28</td>\n",
       "      <td>SG</td>\n",
       "      <td>22</td>\n",
       "      <td>158</td>\n",
       "      <td>185</td>\n",
       "      <td>Georgia State</td>\n",
       "      <td>1148640.0</td>\n",
       "    </tr>\n",
       "    <tr>\n",
       "      <th>4</th>\n",
       "      <td>Jonas Jerebko</td>\n",
       "      <td>Boston Celtics</td>\n",
       "      <td>8</td>\n",
       "      <td>PF</td>\n",
       "      <td>29</td>\n",
       "      <td>170</td>\n",
       "      <td>231</td>\n",
       "      <td>NaN</td>\n",
       "      <td>5000000.0</td>\n",
       "    </tr>\n",
       "  </tbody>\n",
       "</table>\n",
       "</div>"
      ],
      "text/plain": [
       "            Name            Team  Number Position  Age  Height  Weight  \\\n",
       "0  Avery Bradley  Boston Celtics       0       PG   25     153     180   \n",
       "1    Jae Crowder  Boston Celtics      99       SF   25     164     235   \n",
       "2   John Holland  Boston Celtics      30       SG   27     171     205   \n",
       "3    R.J. Hunter  Boston Celtics      28       SG   22     158     185   \n",
       "4  Jonas Jerebko  Boston Celtics       8       PF   29     170     231   \n",
       "\n",
       "             College     Salary  \n",
       "0              Texas  7730337.0  \n",
       "1          Marquette  6796117.0  \n",
       "2  Boston University        NaN  \n",
       "3      Georgia State  1148640.0  \n",
       "4                NaN  5000000.0  "
      ]
     },
     "execution_count": 21,
     "metadata": {},
     "output_type": "execute_result"
    }
   ],
   "source": [
    "df.head()"
   ]
  },
  {
   "cell_type": "markdown",
   "id": "93daac39-c83b-4ce8-85d7-8ca26568f529",
   "metadata": {},
   "source": [
    "# DATA ANALYSIS"
   ]
  },
  {
   "cell_type": "markdown",
   "id": "c530a5d4-d2aa-403d-95ba-87365b9f7e18",
   "metadata": {},
   "source": [
    "## 1.How many are there in each Team and the percentage splitting with respect to the total employees."
   ]
  },
  {
   "cell_type": "code",
   "execution_count": 5,
   "id": "7885211f-de54-405f-a435-e52946d028aa",
   "metadata": {},
   "outputs": [],
   "source": [
    "import numpy as np\n",
    "import pandas as pd\n",
    "import matplotlib.pyplot as plt\n",
    "import seaborn as sns"
   ]
  },
  {
   "cell_type": "code",
   "execution_count": 8,
   "id": "61ebf98b-be4c-4f66-becd-bf3c62e8998d",
   "metadata": {},
   "outputs": [],
   "source": [
    "df=pd.read_csv('Employee_data.csv.csv')"
   ]
  },
  {
   "cell_type": "markdown",
   "id": "34e6c605-3d6b-4ca5-8efa-38cd82356f3c",
   "metadata": {},
   "source": [
    "## List of Employees Team an its strength"
   ]
  },
  {
   "cell_type": "code",
   "execution_count": 6,
   "id": "e28cd255-c5b3-4f0e-bb9b-6dc435efd8a2",
   "metadata": {},
   "outputs": [
    {
     "data": {
      "text/plain": [
       "Team\n",
       "New Orleans Pelicans      19\n",
       "Memphis Grizzlies         18\n",
       "Utah Jazz                 16\n",
       "New York Knicks           16\n",
       "Milwaukee Bucks           16\n",
       "Brooklyn Nets             15\n",
       "Portland Trail Blazers    15\n",
       "Oklahoma City Thunder     15\n",
       "Denver Nuggets            15\n",
       "Washington Wizards        15\n",
       "Miami Heat                15\n",
       "Charlotte Hornets         15\n",
       "Atlanta Hawks             15\n",
       "San Antonio Spurs         15\n",
       "Houston Rockets           15\n",
       "Boston Celtics            15\n",
       "Indiana Pacers            15\n",
       "Detroit Pistons           15\n",
       "Cleveland Cavaliers       15\n",
       "Chicago Bulls             15\n",
       "Sacramento Kings          15\n",
       "Phoenix Suns              15\n",
       "Los Angeles Lakers        15\n",
       "Los Angeles Clippers      15\n",
       "Golden State Warriors     15\n",
       "Toronto Raptors           15\n",
       "Philadelphia 76ers        15\n",
       "Dallas Mavericks          15\n",
       "Orlando Magic             14\n",
       "Minnesota Timberwolves    14\n",
       "Name: count, dtype: int64"
      ]
     },
     "execution_count": 6,
     "metadata": {},
     "output_type": "execute_result"
    }
   ],
   "source": [
    "team_count=df['Team'].value_counts()\n",
    "team_count\n",
    "\n"
   ]
  },
  {
   "cell_type": "markdown",
   "id": "d925420b-b182-4684-b89b-d5732c34adc0",
   "metadata": {},
   "source": [
    "## Visualisation of Team "
   ]
  },
  {
   "cell_type": "code",
   "execution_count": 10,
   "id": "b76ee485-1c34-4c1c-a9d9-49b4d0f3d8a0",
   "metadata": {},
   "outputs": [
    {
     "data": {
      "image/png": "[encoded data removed]",
      "text/plain": [
       "<Figure size 1200x600 with 1 Axes>"
      ]
     },
     "metadata": {},
     "output_type": "display_data"
    }
   ],
   "source": [
    "plt.figure(figsize=(12,6))\n",
    "plt.bar(team_count.index,team_count.values,width=0.8,color='violet')\n",
    "plt.grid(True,linestyle='--',linewidth=0.5)\n",
    "plt.ylim(0,20)\n",
    "plt.xticks(rotation=90)\n",
    "plt.title('Column Team')\n",
    "plt.xlabel('Team')\n",
    "plt.ylabel('Count')\n",
    "plt.show()"
   ]
  },
  {
   "cell_type": "markdown",
   "id": "ec00f24d-c320-4801-9af3-b3e89bc105b1",
   "metadata": {},
   "source": [
    "## Percentage of Employees in the Teams"
   ]
  },
  {
   "cell_type": "code",
   "execution_count": 23,
   "id": "e2fe114c-cf9a-48c3-b204-1a3fa8266152",
   "metadata": {},
   "outputs": [
    {
     "data": {
      "text/html": [
       "<div>\n",
       "<style scoped>\n",
       "    .dataframe tbody tr th:only-of-type {\n",
       "        vertical-align: middle;\n",
       "    }\n",
       "\n",
       "    .dataframe tbody tr th {\n",
       "        vertical-align: top;\n",
       "    }\n",
       "\n",
       "    .dataframe thead th {\n",
       "        text-align: right;\n",
       "    }\n",
       "</style>\n",
       "<table border=\"1\" class=\"dataframe\">\n",
       "  <thead>\n",
       "    <tr style=\"text-align: right;\">\n",
       "      <th></th>\n",
       "      <th>Team</th>\n",
       "      <th>Numnber of Employees</th>\n",
       "      <th>Percentage</th>\n",
       "    </tr>\n",
       "  </thead>\n",
       "  <tbody>\n",
       "    <tr>\n",
       "      <th>0</th>\n",
       "      <td>New Orleans Pelicans</td>\n",
       "      <td>19</td>\n",
       "      <td>4.148472</td>\n",
       "    </tr>\n",
       "    <tr>\n",
       "      <th>1</th>\n",
       "      <td>Memphis Grizzlies</td>\n",
       "      <td>18</td>\n",
       "      <td>3.930131</td>\n",
       "    </tr>\n",
       "    <tr>\n",
       "      <th>2</th>\n",
       "      <td>Utah Jazz</td>\n",
       "      <td>16</td>\n",
       "      <td>3.493450</td>\n",
       "    </tr>\n",
       "    <tr>\n",
       "      <th>3</th>\n",
       "      <td>New York Knicks</td>\n",
       "      <td>16</td>\n",
       "      <td>3.493450</td>\n",
       "    </tr>\n",
       "    <tr>\n",
       "      <th>4</th>\n",
       "      <td>Milwaukee Bucks</td>\n",
       "      <td>16</td>\n",
       "      <td>3.493450</td>\n",
       "    </tr>\n",
       "    <tr>\n",
       "      <th>5</th>\n",
       "      <td>Brooklyn Nets</td>\n",
       "      <td>15</td>\n",
       "      <td>3.275109</td>\n",
       "    </tr>\n",
       "    <tr>\n",
       "      <th>6</th>\n",
       "      <td>Portland Trail Blazers</td>\n",
       "      <td>15</td>\n",
       "      <td>3.275109</td>\n",
       "    </tr>\n",
       "    <tr>\n",
       "      <th>7</th>\n",
       "      <td>Oklahoma City Thunder</td>\n",
       "      <td>15</td>\n",
       "      <td>3.275109</td>\n",
       "    </tr>\n",
       "    <tr>\n",
       "      <th>8</th>\n",
       "      <td>Denver Nuggets</td>\n",
       "      <td>15</td>\n",
       "      <td>3.275109</td>\n",
       "    </tr>\n",
       "    <tr>\n",
       "      <th>9</th>\n",
       "      <td>Washington Wizards</td>\n",
       "      <td>15</td>\n",
       "      <td>3.275109</td>\n",
       "    </tr>\n",
       "    <tr>\n",
       "      <th>10</th>\n",
       "      <td>Miami Heat</td>\n",
       "      <td>15</td>\n",
       "      <td>3.275109</td>\n",
       "    </tr>\n",
       "    <tr>\n",
       "      <th>11</th>\n",
       "      <td>Charlotte Hornets</td>\n",
       "      <td>15</td>\n",
       "      <td>3.275109</td>\n",
       "    </tr>\n",
       "    <tr>\n",
       "      <th>12</th>\n",
       "      <td>Atlanta Hawks</td>\n",
       "      <td>15</td>\n",
       "      <td>3.275109</td>\n",
       "    </tr>\n",
       "    <tr>\n",
       "      <th>13</th>\n",
       "      <td>San Antonio Spurs</td>\n",
       "      <td>15</td>\n",
       "      <td>3.275109</td>\n",
       "    </tr>\n",
       "    <tr>\n",
       "      <th>14</th>\n",
       "      <td>Houston Rockets</td>\n",
       "      <td>15</td>\n",
       "      <td>3.275109</td>\n",
       "    </tr>\n",
       "    <tr>\n",
       "      <th>15</th>\n",
       "      <td>Boston Celtics</td>\n",
       "      <td>15</td>\n",
       "      <td>3.275109</td>\n",
       "    </tr>\n",
       "    <tr>\n",
       "      <th>16</th>\n",
       "      <td>Indiana Pacers</td>\n",
       "      <td>15</td>\n",
       "      <td>3.275109</td>\n",
       "    </tr>\n",
       "    <tr>\n",
       "      <th>17</th>\n",
       "      <td>Detroit Pistons</td>\n",
       "      <td>15</td>\n",
       "      <td>3.275109</td>\n",
       "    </tr>\n",
       "    <tr>\n",
       "      <th>18</th>\n",
       "      <td>Cleveland Cavaliers</td>\n",
       "      <td>15</td>\n",
       "      <td>3.275109</td>\n",
       "    </tr>\n",
       "    <tr>\n",
       "      <th>19</th>\n",
       "      <td>Chicago Bulls</td>\n",
       "      <td>15</td>\n",
       "      <td>3.275109</td>\n",
       "    </tr>\n",
       "    <tr>\n",
       "      <th>20</th>\n",
       "      <td>Sacramento Kings</td>\n",
       "      <td>15</td>\n",
       "      <td>3.275109</td>\n",
       "    </tr>\n",
       "    <tr>\n",
       "      <th>21</th>\n",
       "      <td>Phoenix Suns</td>\n",
       "      <td>15</td>\n",
       "      <td>3.275109</td>\n",
       "    </tr>\n",
       "    <tr>\n",
       "      <th>22</th>\n",
       "      <td>Los Angeles Lakers</td>\n",
       "      <td>15</td>\n",
       "      <td>3.275109</td>\n",
       "    </tr>\n",
       "    <tr>\n",
       "      <th>23</th>\n",
       "      <td>Los Angeles Clippers</td>\n",
       "      <td>15</td>\n",
       "      <td>3.275109</td>\n",
       "    </tr>\n",
       "    <tr>\n",
       "      <th>24</th>\n",
       "      <td>Golden State Warriors</td>\n",
       "      <td>15</td>\n",
       "      <td>3.275109</td>\n",
       "    </tr>\n",
       "    <tr>\n",
       "      <th>25</th>\n",
       "      <td>Toronto Raptors</td>\n",
       "      <td>15</td>\n",
       "      <td>3.275109</td>\n",
       "    </tr>\n",
       "    <tr>\n",
       "      <th>26</th>\n",
       "      <td>Philadelphia 76ers</td>\n",
       "      <td>15</td>\n",
       "      <td>3.275109</td>\n",
       "    </tr>\n",
       "    <tr>\n",
       "      <th>27</th>\n",
       "      <td>Dallas Mavericks</td>\n",
       "      <td>15</td>\n",
       "      <td>3.275109</td>\n",
       "    </tr>\n",
       "    <tr>\n",
       "      <th>28</th>\n",
       "      <td>Orlando Magic</td>\n",
       "      <td>14</td>\n",
       "      <td>3.056769</td>\n",
       "    </tr>\n",
       "    <tr>\n",
       "      <th>29</th>\n",
       "      <td>Minnesota Timberwolves</td>\n",
       "      <td>14</td>\n",
       "      <td>3.056769</td>\n",
       "    </tr>\n",
       "  </tbody>\n",
       "</table>\n",
       "</div>"
      ],
      "text/plain": [
       "                      Team  Numnber of Employees  Percentage\n",
       "0     New Orleans Pelicans                    19    4.148472\n",
       "1        Memphis Grizzlies                    18    3.930131\n",
       "2                Utah Jazz                    16    3.493450\n",
       "3          New York Knicks                    16    3.493450\n",
       "4          Milwaukee Bucks                    16    3.493450\n",
       "5            Brooklyn Nets                    15    3.275109\n",
       "6   Portland Trail Blazers                    15    3.275109\n",
       "7    Oklahoma City Thunder                    15    3.275109\n",
       "8           Denver Nuggets                    15    3.275109\n",
       "9       Washington Wizards                    15    3.275109\n",
       "10              Miami Heat                    15    3.275109\n",
       "11       Charlotte Hornets                    15    3.275109\n",
       "12           Atlanta Hawks                    15    3.275109\n",
       "13       San Antonio Spurs                    15    3.275109\n",
       "14         Houston Rockets                    15    3.275109\n",
       "15          Boston Celtics                    15    3.275109\n",
       "16          Indiana Pacers                    15    3.275109\n",
       "17         Detroit Pistons                    15    3.275109\n",
       "18     Cleveland Cavaliers                    15    3.275109\n",
       "19           Chicago Bulls                    15    3.275109\n",
       "20        Sacramento Kings                    15    3.275109\n",
       "21            Phoenix Suns                    15    3.275109\n",
       "22      Los Angeles Lakers                    15    3.275109\n",
       "23    Los Angeles Clippers                    15    3.275109\n",
       "24   Golden State Warriors                    15    3.275109\n",
       "25         Toronto Raptors                    15    3.275109\n",
       "26      Philadelphia 76ers                    15    3.275109\n",
       "27        Dallas Mavericks                    15    3.275109\n",
       "28           Orlando Magic                    14    3.056769\n",
       "29  Minnesota Timberwolves                    14    3.056769"
      ]
     },
     "execution_count": 23,
     "metadata": {},
     "output_type": "execute_result"
    }
   ],
   "source": [
    "team=df['Team'].value_counts()\n",
    "percentage=(team/len(df))*100\n",
    "\n",
    "#Team wise Distribution and Percentage\n",
    "team_percentage=pd.DataFrame({'Team':team.index,'Number of Employees':team.values,'Percentage':percentage.values})\n",
    "team_percentage\n"
   ]
  },
  {
   "cell_type": "markdown",
   "id": "7abdead3-cb3c-48a0-964e-f5548a58070b",
   "metadata": {},
   "source": [
    "\n",
    "# 2.Segregate the employees w.r.t different positions."
   ]
  },
  {
   "cell_type": "code",
   "execution_count": 48,
   "id": "677bd9fd-87b5-4c88-858c-828a69a2f5b7",
   "metadata": {},
   "outputs": [
    {
     "data": {
      "text/plain": [
       "Position\n",
       "SG    102\n",
       "PF    100\n",
       "PG     92\n",
       "SF     85\n",
       "C      79\n",
       "Name: count, dtype: int64"
      ]
     },
     "execution_count": 48,
     "metadata": {},
     "output_type": "execute_result"
    }
   ],
   "source": [
    "position_count=df['Position'].value_counts()\n",
    "position_count"
   ]
  },
  {
   "cell_type": "markdown",
   "id": "17fab1b6-fa6f-4488-b1b0-add48a2d502e",
   "metadata": {},
   "source": [
    "### Visual Representation of employees w.r.t different positions"
   ]
  },
  {
   "cell_type": "code",
   "execution_count": 55,
   "id": "bfa681c2-baf9-4c4d-8a06-2a9ae49238c2",
   "metadata": {},
   "outputs": [
    {
     "data": {
      "image/png": "[encoded data removed]",
      "text/plain": [
       "<Figure size 1000x600 with 1 Axes>"
      ]
     },
     "metadata": {},
     "output_type": "display_data"
    }
   ],
   "source": [
    "plt.figure(figsize=(10,6))\n",
    "plt.bar(position_count.index, position_count.values, width=0.5, color='olivedrab',edgecolor='m')\n",
    "plt.grid(True,linestyle='--')\n",
    "plt.title('Column Position')\n",
    "plt.xlabel('Position')\n",
    "plt.ylabel('Count')\n",
    "plt.show()"
   ]
  },
  {
   "cell_type": "markdown",
   "id": "6f31ad1e-d31f-4694-a223-3ebb232d2c25",
   "metadata": {},
   "source": [
    "# 3.Find from which age group most of the employees belong to."
   ]
  },
  {
   "cell_type": "code",
   "execution_count": 56,
   "id": "27f2b878-159d-4515-ba05-b9050200b0bb",
   "metadata": {},
   "outputs": [
    {
     "data": {
      "text/plain": [
       "Age\n",
       "24    47\n",
       "25    46\n",
       "27    41\n",
       "23    41\n",
       "26    36\n",
       "28    31\n",
       "30    31\n",
       "29    28\n",
       "22    26\n",
       "31    22\n",
       "20    19\n",
       "21    19\n",
       "33    14\n",
       "32    13\n",
       "34    10\n",
       "36    10\n",
       "35     9\n",
       "37     4\n",
       "38     4\n",
       "40     3\n",
       "39     2\n",
       "19     2\n",
       "Name: count, dtype: int64"
      ]
     },
     "execution_count": 56,
     "metadata": {},
     "output_type": "execute_result"
    }
   ],
   "source": [
    "age=df['Age'].value_counts()\n",
    "age"
   ]
  },
  {
   "cell_type": "code",
   "execution_count": 65,
   "id": "6af2a04a-1a6c-479f-bf28-0d2f0078f29d",
   "metadata": {},
   "outputs": [
    {
     "data": {
      "image/png": "[encoded data removed]",
      "text/plain": [
       "<Figure size 1000x600 with 1 Axes>"
      ]
     },
     "metadata": {},
     "output_type": "display_data"
    }
   ],
   "source": [
    "plt.figure(figsize=(10,6))\n",
    "plt.bar(age.index,age.values, width=0.5, color='aqua',edgecolor='darkgreen')\n",
    "plt.grid(True,linestyle='--')\n",
    "plt.title('Column Position')\n",
    "plt.xlabel('Age Group')\n",
    "plt.ylabel('Age')\n",
    "plt.show()"
   ]
  },
  {
   "cell_type": "markdown",
   "id": "b0f1b963-c3cb-43fc-b485-26ab55791ab6",
   "metadata": {},
   "source": [
    "# 4.Find out under which team and position, spending in terms of salary is high."
   ]
  },
  {
   "cell_type": "code",
   "execution_count": 4,
   "id": "3218ecc6-ccde-4c0e-b0b0-356de3ceba2d",
   "metadata": {},
   "outputs": [
    {
     "data": {
      "text/plain": [
       "('Los Angeles Lakers', 'SF')"
      ]
     },
     "execution_count": 4,
     "metadata": {},
     "output_type": "execute_result"
    }
   ],
   "source": [
    "position_salary_grp=df.groupby(['Team','Position'])['Salary'].sum().idxmax()\n",
    "position_salary_grp"
   ]
  },
  {
   "cell_type": "markdown",
   "id": "3a5003b9-7e83-470c-96b9-03ead4f80f07",
   "metadata": {},
   "source": [
    "# 5.Find if there is any correlation between age and salary , represent it visually."
   ]
  },
  {
   "cell_type": "markdown",
   "id": "2ad993ec-9eb4-4e06-a007-4fc4a50cd853",
   "metadata": {},
   "source": [
    "## Visualisation of Correlation between Age and salary"
   ]
  },
  {
   "cell_type": "code",
   "execution_count": 68,
   "id": "9b110151-01b8-4906-8b26-87acd3d14475",
   "metadata": {},
   "outputs": [
    {
     "data": {
      "image/png": "[encoded data removed]",
      "text/plain": [
       "<Figure size 640x480 with 2 Axes>"
      ]
     },
     "metadata": {},
     "output_type": "display_data"
    },
    {
     "data": {
      "text/html": [
       "<div>\n",
       "<style scoped>\n",
       "    .dataframe tbody tr th:only-of-type {\n",
       "        vertical-align: middle;\n",
       "    }\n",
       "\n",
       "    .dataframe tbody tr th {\n",
       "        vertical-align: top;\n",
       "    }\n",
       "\n",
       "    .dataframe thead th {\n",
       "        text-align: right;\n",
       "    }\n",
       "</style>\n",
       "<table border=\"1\" class=\"dataframe\">\n",
       "  <thead>\n",
       "    <tr style=\"text-align: right;\">\n",
       "      <th></th>\n",
       "      <th>Age</th>\n",
       "      <th>Salary</th>\n",
       "    </tr>\n",
       "  </thead>\n",
       "  <tbody>\n",
       "    <tr>\n",
       "      <th>Age</th>\n",
       "      <td>1.000000</td>\n",
       "      <td>0.214009</td>\n",
       "    </tr>\n",
       "    <tr>\n",
       "      <th>Salary</th>\n",
       "      <td>0.214009</td>\n",
       "      <td>1.000000</td>\n",
       "    </tr>\n",
       "  </tbody>\n",
       "</table>\n",
       "</div>"
      ],
      "text/plain": [
       "             Age    Salary\n",
       "Age     1.000000  0.214009\n",
       "Salary  0.214009  1.000000"
      ]
     },
     "execution_count": 68,
     "metadata": {},
     "output_type": "execute_result"
    }
   ],
   "source": [
    "correlation=df[['Age','Salary']].corr()\n",
    "sns.heatmap(correlation,annot=True,cmap='plasma')\n",
    "plt.show()\n",
    "correlation"
   ]
  },
  {
   "cell_type": "markdown",
   "id": "bea8a763-6058-433e-abb0-20617787eabc",
   "metadata": {},
   "source": [
    "### In conclusion the project involved thorough data preprocessing to handle missing values and correct inaccurate data. The analysis provided insights into the team distribution, position segregation, age group distribution, and salary spending. The highest spending team and position were identified. Additionally, the correlation analysis revealed the relationship between age and salary."
   ]
  },
  {
   "cell_type": "code",
   "execution_count": null,
   "id": "db9363cf-4db0-47c5-9da3-e5deae0644b9",
   "metadata": {},
   "outputs": [],
   "source": []
  }
 ],
 "metadata": {
  "kernelspec": {
   "display_name": "Python 3 (ipykernel)",
   "language": "python",
   "name": "python3"
  },
  "language_info": {
   "codemirror_mode": {
    "name": "ipython",
    "version": 3
   },
   "file_extension": ".py",
   "mimetype": "text/x-python",
   "name": "python",
   "nbconvert_exporter": "python",
   "pygments_lexer": "ipython3",
   "version": "3.11.4"
  }
 },
 "nbformat": 4,
 "nbformat_minor": 5
}
